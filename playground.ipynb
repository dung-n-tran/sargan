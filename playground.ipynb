{
 "cells": [
  {
   "cell_type": "code",
   "execution_count": null,
   "metadata": {},
   "outputs": [],
   "source": [
    "import numpy as np\n",
    "from scipy.sparse import random\n",
    "from scipy import stats\n",
    "class CustomRandomState(object):\n",
    "    def randint(self, k):\n",
    "        i = np.random.randint(k)\n",
    "        return i - i % 2\n",
    "rs = CustomRandomState()\n",
    "rvs = stats.uniform(loc=-1, scale=2).rvs\n",
    "S = random(10, 2, density=0.25, random_state=rs, data_rvs=rvs)\n",
    "S.A"
   ]
  },
  {
   "cell_type": "code",
   "execution_count": null,
   "metadata": {},
   "outputs": [],
   "source": [
    "freq_band = (380e6, 2080e6)\n",
    "freq_band_width = freq_band[1] - freq_band[0]\n",
    "missing_rates = np.asarray([0.5, 0.75, 0.9])\n",
    "n_missing_rates = missing_rates.shape[0]\n",
    "missing_band_widths = freq_band_width * missing_rates\n",
    "gap_widths = missing_band_widths\n",
    "f_start = np.repeat(freq_band[0], n_missing_rates) + round(0.1*freq_band_width)\n",
    "f_end = f_start + gap_widths\n",
    "f_start_idx = np.int_(np.ceil(f_start / df))\n",
    "f_end_idx = np.int_(np.ceil(f_end / df))\n",
    "freq_gaps = [f_start_idx, f_end_idx]"
   ]
  },
  {
   "cell_type": "code",
   "execution_count": null,
   "metadata": {},
   "outputs": [],
   "source": [
    "missing_rates = np.asarray([0.5, 0.75, 0.9])\n",
    "a, b = [freq_gaps[0][1], freq_gaps[1][1]]"
   ]
  },
  {
   "cell_type": "code",
   "execution_count": null,
   "metadata": {},
   "outputs": [],
   "source": [
    "freq_band = (380e6, 2080e6)\n",
    "freq_band_width = freq_band[1] - freq_band[0]\n",
    "missing_rates = np.asarray([0.5, 0.75, 0.9])\n",
    "n_missing_rates = missing_rates.shape[0]\n",
    "freq_gaps = []\n",
    "for missing_rate in missing_rates:\n",
    "    missing_band_width = round(freq_band_width * missing_rate)\n",
    "    gap_width = missing_band_width\n",
    "    f_start = np.array([freq_band[0] + round(0.1*freq_band_width)])\n",
    "    f_end = f_start + gap_width\n",
    "    f_start_idx = np.int_(np.ceil(f_start / df))\n",
    "    f_end_idx = np.int_(np.ceil(f_end / df))\n",
    "    print(f_end_idx)\n",
    "    freq_gap = [f_start_idx, f_end_idx]\n",
    "    freq_gaps.append(freq_gap) "
   ]
  },
  {
   "cell_type": "code",
   "execution_count": null,
   "metadata": {},
   "outputs": [],
   "source": [
    "freq_gaps"
   ]
  },
  {
   "cell_type": "code",
   "execution_count": null,
   "metadata": {},
   "outputs": [],
   "source": [
    "import matplotlib.pyplot as plt\n",
    "x = np.linspace(stats.uniform.ppf(0.01),\n",
    "                stats.uniform.ppf(0.99), 100)\n",
    "rvs = stats.uniform(-1, 2).rvs(size=10000000)\n",
    "fig = plt.figure(); ax = fig.add_subplot(111)\n",
    "ax.hist(rvs, normed=False, histtype='stepfilled', alpha=0.2)\n",
    "ax.legend(loc='best', frameon=False)\n",
    "plt.show()"
   ]
  },
  {
   "cell_type": "code",
   "execution_count": null,
   "metadata": {},
   "outputs": [],
   "source": [
    "\n",
    "sparsity_rates = [0.05, 0.1, 0.15, 0.2, 0.25, 0.3, 0.35, 0.4]\n",
    "np.random.randint(0, len(sparsity_rates))"
   ]
  },
  {
   "cell_type": "code",
   "execution_count": null,
   "metadata": {},
   "outputs": [],
   "source": [
    "from scipy import stats\n",
    "from scipy import sparse\n",
    "%timeit sparse.random(10, 10, format=\"csr\", density=0.2)"
   ]
  },
  {
   "cell_type": "code",
   "execution_count": null,
   "metadata": {},
   "outputs": [],
   "source": [
    "import numpy as np\n",
    "from scipy import sparse\n",
    "p = 100\n",
    "n = 50\n",
    "X = np.random.randn(p,n)\n",
    "L = sparse.eye(p,p, format='csc')\n",
    "%timeit L.dot(X)\n"
   ]
  },
  {
   "cell_type": "code",
   "execution_count": null,
   "metadata": {},
   "outputs": [],
   "source": [
    "batch_size = 1; \n",
    "sar_dict_mat = np.random.randn(1500*301, 36)\n",
    "sparsity_rate = 0.2\n",
    "coef_mtx = sparse.random(batch_size, sar_dict_mat.shape[1],\n",
    "                             format=\"csr\", density=sparsity_rate)\n",
    "# %timeit coef_mtx.dot(np.transpose(sar_dict_mat))"
   ]
  },
  {
   "cell_type": "code",
   "execution_count": null,
   "metadata": {},
   "outputs": [],
   "source": [
    "# %timeit np.dot(sar_dict_mat, coef_mtx)"
   ]
  },
  {
   "cell_type": "code",
   "execution_count": null,
   "metadata": {},
   "outputs": [],
   "source": [
    "coef_mtx.data"
   ]
  },
  {
   "cell_type": "code",
   "execution_count": null,
   "metadata": {},
   "outputs": [],
   "source": [
    "import pickle\n",
    "\n",
    "DATA_PATH = \"/data/dung/sargan\"\n",
    "import os\n",
    "dict_filename = \"sar_dict_target_distance_5\"\n",
    "# dict_filename = \"sar_dict_small\"\n",
    "with open(os.path.join(DATA_PATH, dict_filename + \"_no_downsampling\" + \".pickle\"), 'rb') as handle:\n",
    "    sar_dict_data = pickle.load(handle)\n",
    "    \n",
    "sar_dict_mat = sar_dict_data[\"sar_dict_mat\"]\n",
    "ori_n_samples = sar_dict_data[\"n_samples\"]\n",
    "ori_n_apertures = sar_dict_data[\"n_apertures\"]\n",
    "sampling_period = sar_dict_data[\"transmistted_pulse_sample_period\"]\n",
    "n_atoms = sar_dict_mat.shape[1]\n",
    "\n",
    "\n",
    "downsample_factor = 4\n",
    "DOWNSAMPLE = False\n",
    "if DOWNSAMPLE:\n",
    "    n_samples = math.ceil(ori_n_samples / downsample_factor)\n",
    "    n_apertures = math.ceil(ori_n_apertures / downsample_factor)\n",
    "else:\n",
    "    n_samples = ori_n_samples\n",
    "    n_apertures = ori_n_apertures\n",
    "    \n",
    "n_fft = ori_n_samples\n",
    "sampling_freq = 1. / (sampling_period + 1e-32)\n",
    "df = sampling_freq / n_fft\n",
    "freq = [df*i / 1e6 for i in range(0, n_fft)]    \n",
    "import numpy as np\n",
    "\n"
   ]
  },
  {
   "cell_type": "code",
   "execution_count": null,
   "metadata": {},
   "outputs": [],
   "source": [
    "freq_band = (300e6, 3000e6)\n",
    "freq_band_width = freq_band[1] - freq_band[0]\n",
    "missing_rates = np.asarray([0.5, 0.6, 0.7, 0.8, 0.9])\n",
    "print(\"MISSING RATES:\", missing_rates)\n",
    "n_missing_rates = missing_rates.shape[0]\n",
    "freq_gaps = []\n",
    "missing_rate = missing_rates[1]\n",
    "missing_band_width = round(freq_band_width * missing_rate)\n",
    "gap_width = missing_band_width\n",
    "\n",
    "f_start = np.array([freq_band[0] + round(0.5 * (freq_band_width - missing_band_width))])\n",
    "\n",
    "f_end = f_start + gap_width\n",
    "f_start_idx = np.int_(np.ceil(f_start / df))\n",
    "f_end_idx = np.int_(np.ceil(f_end / df))\n",
    "freq_gap = [f_start_idx, f_end_idx]\n",
    "freq_gaps.append(freq_gap) \n",
    "freq[freq_gap[0][0] : freq_gap[1][0]]"
   ]
  },
  {
   "cell_type": "code",
   "execution_count": null,
   "metadata": {},
   "outputs": [],
   "source": [
    "missing_band_width/1e6"
   ]
  },
  {
   "cell_type": "code",
   "execution_count": null,
   "metadata": {},
   "outputs": [],
   "source": [
    "1650-810"
   ]
  },
  {
   "cell_type": "code",
   "execution_count": 1,
   "metadata": {},
   "outputs": [],
   "source": [
    "from sar_data_utilities import DATA_PATH, load_data_dict, load_deterministic_scene_data\n",
    "import numpy as np\n",
    "scene_type = \"uniform\"\n",
    "scene_raw_data_mat, scene_image, n_samples, n_apertures, sampling_period = load_deterministic_scene_data(scene_type)\n",
    "scene_raw_data_batch = np.expand_dims(scene_raw_data_mat, axis=0)\n",
    "dict_filename, sar_dict_mat, n_samples, n_apertures, n_atoms, transmitted_pulse, sampling_period = load_data_dict()"
   ]
  }
 ],
 "metadata": {
  "kernelspec": {
   "display_name": "tensorflow-gpu-p36",
   "language": "python",
   "name": "tensorflow-gpu-p36"
  },
  "language_info": {
   "codemirror_mode": {
    "name": "ipython",
    "version": 3
   },
   "file_extension": ".py",
   "mimetype": "text/x-python",
   "name": "python",
   "nbconvert_exporter": "python",
   "pygments_lexer": "ipython3",
   "version": "3.6.5"
  }
 },
 "nbformat": 4,
 "nbformat_minor": 2
}
