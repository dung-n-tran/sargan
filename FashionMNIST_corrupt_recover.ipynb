{
 "cells": [
  {
   "cell_type": "code",
   "execution_count": 1,
   "metadata": {},
   "outputs": [
    {
     "name": "stderr",
     "output_type": "stream",
     "text": [
      "/home/grad3/hle/.local/lib/python3.5/site-packages/tensorflow/python/framework/dtypes.py:516: FutureWarning: Passing (type, 1) or '1type' as a synonym of type is deprecated; in a future version of numpy, it will be understood as (type, (1,)) / '(1,)type'.\n",
      "  _np_qint8 = np.dtype([(\"qint8\", np.int8, 1)])\n",
      "/home/grad3/hle/.local/lib/python3.5/site-packages/tensorflow/python/framework/dtypes.py:517: FutureWarning: Passing (type, 1) or '1type' as a synonym of type is deprecated; in a future version of numpy, it will be understood as (type, (1,)) / '(1,)type'.\n",
      "  _np_quint8 = np.dtype([(\"quint8\", np.uint8, 1)])\n",
      "/home/grad3/hle/.local/lib/python3.5/site-packages/tensorflow/python/framework/dtypes.py:518: FutureWarning: Passing (type, 1) or '1type' as a synonym of type is deprecated; in a future version of numpy, it will be understood as (type, (1,)) / '(1,)type'.\n",
      "  _np_qint16 = np.dtype([(\"qint16\", np.int16, 1)])\n",
      "/home/grad3/hle/.local/lib/python3.5/site-packages/tensorflow/python/framework/dtypes.py:519: FutureWarning: Passing (type, 1) or '1type' as a synonym of type is deprecated; in a future version of numpy, it will be understood as (type, (1,)) / '(1,)type'.\n",
      "  _np_quint16 = np.dtype([(\"quint16\", np.uint16, 1)])\n",
      "/home/grad3/hle/.local/lib/python3.5/site-packages/tensorflow/python/framework/dtypes.py:520: FutureWarning: Passing (type, 1) or '1type' as a synonym of type is deprecated; in a future version of numpy, it will be understood as (type, (1,)) / '(1,)type'.\n",
      "  _np_qint32 = np.dtype([(\"qint32\", np.int32, 1)])\n",
      "/home/grad3/hle/.local/lib/python3.5/site-packages/tensorflow/python/framework/dtypes.py:525: FutureWarning: Passing (type, 1) or '1type' as a synonym of type is deprecated; in a future version of numpy, it will be understood as (type, (1,)) / '(1,)type'.\n",
      "  np_resource = np.dtype([(\"resource\", np.ubyte, 1)])\n",
      "/home/grad3/hle/.local/lib/python3.5/site-packages/tensorboard/compat/tensorflow_stub/dtypes.py:541: FutureWarning: Passing (type, 1) or '1type' as a synonym of type is deprecated; in a future version of numpy, it will be understood as (type, (1,)) / '(1,)type'.\n",
      "  _np_qint8 = np.dtype([(\"qint8\", np.int8, 1)])\n",
      "/home/grad3/hle/.local/lib/python3.5/site-packages/tensorboard/compat/tensorflow_stub/dtypes.py:542: FutureWarning: Passing (type, 1) or '1type' as a synonym of type is deprecated; in a future version of numpy, it will be understood as (type, (1,)) / '(1,)type'.\n",
      "  _np_quint8 = np.dtype([(\"quint8\", np.uint8, 1)])\n",
      "/home/grad3/hle/.local/lib/python3.5/site-packages/tensorboard/compat/tensorflow_stub/dtypes.py:543: FutureWarning: Passing (type, 1) or '1type' as a synonym of type is deprecated; in a future version of numpy, it will be understood as (type, (1,)) / '(1,)type'.\n",
      "  _np_qint16 = np.dtype([(\"qint16\", np.int16, 1)])\n",
      "/home/grad3/hle/.local/lib/python3.5/site-packages/tensorboard/compat/tensorflow_stub/dtypes.py:544: FutureWarning: Passing (type, 1) or '1type' as a synonym of type is deprecated; in a future version of numpy, it will be understood as (type, (1,)) / '(1,)type'.\n",
      "  _np_quint16 = np.dtype([(\"quint16\", np.uint16, 1)])\n",
      "/home/grad3/hle/.local/lib/python3.5/site-packages/tensorboard/compat/tensorflow_stub/dtypes.py:545: FutureWarning: Passing (type, 1) or '1type' as a synonym of type is deprecated; in a future version of numpy, it will be understood as (type, (1,)) / '(1,)type'.\n",
      "  _np_qint32 = np.dtype([(\"qint32\", np.int32, 1)])\n",
      "/home/grad3/hle/.local/lib/python3.5/site-packages/tensorboard/compat/tensorflow_stub/dtypes.py:550: FutureWarning: Passing (type, 1) or '1type' as a synonym of type is deprecated; in a future version of numpy, it will be understood as (type, (1,)) / '(1,)type'.\n",
      "  np_resource = np.dtype([(\"resource\", np.ubyte, 1)])\n"
     ]
    }
   ],
   "source": [
    "import matplotlib.pyplot as plt\n",
    "from sargan_models import SARGAN\n",
    "import os\n",
    "import tensorflow as tf\n",
    "from tqdm import tqdm\n",
    "from random import shuffle\n",
    "# import skimage.measure as ski_me\n",
    "import time\n",
    "import numpy as np\n",
    "from cifar_helper import get_data, chunks\n",
    "from sar_utilities import add_gaussian_noise\n",
    "from alert_utilities import send_images_via_email\n",
    "\n",
    "from torchvision import transforms, datasets, models\n",
    "from torch.utils.data import DataLoader\n",
    "import torch"
   ]
  },
  {
   "cell_type": "code",
   "execution_count": 2,
   "metadata": {},
   "outputs": [
    {
     "name": "stdout",
     "output_type": "stream",
     "text": [
      "['img_batch_0.pt', 'img_batch_1.pt', 'img_batch_2.pt', 'img_batch_3.pt', 'img_batch_4.pt', 'img_batch_5.pt', 'img_batch_6.pt', 'img_batch_7.pt', 'img_batch_8.pt', 'img_batch_9.pt']\n"
     ]
    }
   ],
   "source": [
    "adv_dir = '/scratch/hle/fashion_mnist_adv/'\n",
    "list_dirs = [f for f in os.listdir(adv_dir) if 'img' in f]\n",
    "print((list_dirs[:10]))"
   ]
  },
  {
   "cell_type": "code",
   "execution_count": 3,
   "metadata": {},
   "outputs": [
    {
     "name": "stdout",
     "output_type": "stream",
     "text": [
      "157\n",
      "(10000, 224, 224, 1)\n"
     ]
    }
   ],
   "source": [
    "test_imgs = []\n",
    "for file_name in list_dirs:\n",
    "    img_batch = torch.load(adv_dir + file_name).cpu().numpy()\n",
    "    test_imgs.append(img_batch)\n",
    "print(len(test_imgs))\n",
    "test_imgs = np.concatenate(test_imgs)\n",
    "test_imgs = np.transpose(test_imgs, [0,2,3,1])\n",
    "print(test_imgs.shape)"
   ]
  },
  {
   "cell_type": "code",
   "execution_count": 4,
   "metadata": {},
   "outputs": [
    {
     "name": "stderr",
     "output_type": "stream",
     "text": [
      "WARNING: Logging before flag parsing goes to stderr.\n",
      "W0905 02:05:04.349639 139825335146304 deprecation_wrapper.py:119] From /home/grad3/hle/sargan/sargan_models.py:13: The name tf.placeholder is deprecated. Please use tf.compat.v1.placeholder instead.\n",
      "\n",
      "W0905 02:05:04.354965 139825335146304 deprecation_wrapper.py:119] From /home/grad3/hle/sargan/sargan_models.py:46: The name tf.variable_scope is deprecated. Please use tf.compat.v1.variable_scope instead.\n",
      "\n",
      "W0905 02:05:04.356544 139825335146304 deprecation_wrapper.py:119] From /home/grad3/hle/sargan/utils.py:10: The name tf.get_variable is deprecated. Please use tf.compat.v1.get_variable instead.\n",
      "\n",
      "W0905 02:05:09.195943 139825335146304 lazy_loader.py:50] \n",
      "The TensorFlow contrib module will not be included in TensorFlow 2.0.\n",
      "For more information, please see:\n",
      "  * https://github.com/tensorflow/community/blob/master/rfcs/20180907-contrib-sunset.md\n",
      "  * https://github.com/tensorflow/addons\n",
      "  * https://github.com/tensorflow/io (for I/O related ops)\n",
      "If you depend on functionality not listed there, please file an issue.\n",
      "\n",
      "W0905 02:05:09.398459 139825335146304 deprecation.py:506] From /home/grad3/hle/sargan/sargan_models.py:68: calling dropout (from tensorflow.python.ops.nn_ops) with keep_prob is deprecated and will be removed in a future version.\n",
      "Instructions for updating:\n",
      "Please use `rate` instead of `keep_prob`. Rate should be set to `rate = 1 - keep_prob`.\n",
      "W0905 02:05:09.776573 139825335146304 deprecation.py:323] From /home/grad3/hle/.local/lib/python3.5/site-packages/tensorflow/python/ops/nn_impl.py:180: add_dispatch_support.<locals>.wrapper (from tensorflow.python.ops.array_ops) is deprecated and will be removed in a future version.\n",
      "Instructions for updating:\n",
      "Use tf.where in 2.0, which has the same broadcast rule as np.where\n",
      "W0905 02:05:09.794885 139825335146304 deprecation_wrapper.py:119] From /home/grad3/hle/sargan/sargan_models.py:29: The name tf.trainable_variables is deprecated. Please use tf.compat.v1.trainable_variables instead.\n",
      "\n",
      "W0905 02:05:09.901496 139825335146304 deprecation.py:323] From /home/grad3/hle/.local/lib/python3.5/site-packages/tensorflow/python/training/saver.py:1276: checkpoint_exists (from tensorflow.python.training.checkpoint_management) is deprecated and will be removed in a future version.\n",
      "Instructions for updating:\n",
      "Use standard file APIs to check for files with this prefix.\n"
     ]
    }
   ],
   "source": [
    "model_path_test = '/scratch/hle/data/trained_models/fashion_mnist_gaussian_corrupted/fashion_mnist_gaussian_corrupted_model_46.ckpt'\n",
    "img_size = (224,224,1)\n",
    "BATCH_SIZE = 64\n",
    "model = SARGAN(img_size, BATCH_SIZE, img_channel=1)\n",
    "saver = tf.train.Saver()\n",
    "gpu = \"0\"\n",
    "gpu_options = tf.GPUOptions(allow_growth=True, visible_device_list=gpu)\n",
    "config=tf.ConfigProto(gpu_options=gpu_options)\n",
    "NOISE_STD = 0.1\n",
    "recovered_imgs =[]\n",
    "with tf.Session(config=config) as sess:\n",
    "    saver.restore(sess, model_path_test)\n",
    "    i = 0\n",
    "    while i < 9984:\n",
    "        batch = test_imgs [i:i + 64]\n",
    "#         batch = [(std * image + mean) for image in batch]\n",
    "        i += 64\n",
    "        corrupted_batch = np.array([add_gaussian_noise(image, sd=NOISE_STD) for image in batch])\n",
    "#         print(\"corrupted batch range %s, %s\" % (np.amax(corrupted_batch), np.amin(corrupted_batch)))\n",
    "        gen_imgs = sess.run(model.gen_img, feed_dict={model.image:batch, model.cond:corrupted_batch})\n",
    "        recovered_imgs.append(gen_imgs)\n",
    "    batch = test_imgs [9936:]\n",
    "#     batch = [(std * image + mean) for image in batch]\n",
    "    corrupted_batch = np.array([add_gaussian_noise(image, sd=NOISE_STD) for image in batch])\n",
    "#         print(\"corrupted batch range %s, %s\" % (np.amax(corrupted_batch), np.amin(corrupted_batch)))\n",
    "    gen_imgs = sess.run(model.gen_img, feed_dict={model.image:batch, model.cond:corrupted_batch})\n",
    "    gen_imgs = gen_imgs[-16:]\n",
    "    recovered_imgs.append(gen_imgs)\n",
    "    "
   ]
  },
  {
   "cell_type": "code",
   "execution_count": 9,
   "metadata": {},
   "outputs": [],
   "source": [
    "i = 0\n",
    "for batch in  recovered_imgs:\n",
    "    torch.save(batch, \"/scratch/hle/fashion_mnist_adv/img_recover_batch_%s.pt\" % i)\n",
    "    i+=1"
   ]
  },
  {
   "cell_type": "code",
   "execution_count": 11,
   "metadata": {},
   "outputs": [
    {
     "name": "stdout",
     "output_type": "stream",
     "text": [
      "157\n"
     ]
    }
   ],
   "source": [
    "print(len(list_dirs))"
   ]
  },
  {
   "cell_type": "code",
   "execution_count": null,
   "metadata": {},
   "outputs": [],
   "source": []
  }
 ],
 "metadata": {
  "kernelspec": {
   "display_name": "Python [conda env:anaconda3]",
   "language": "python",
   "name": "conda-env-anaconda3-py"
  },
  "language_info": {
   "codemirror_mode": {
    "name": "ipython",
    "version": 3
   },
   "file_extension": ".py",
   "mimetype": "text/x-python",
   "name": "python",
   "nbconvert_exporter": "python",
   "pygments_lexer": "ipython3",
   "version": "3.5.6"
  }
 },
 "nbformat": 4,
 "nbformat_minor": 2
}
